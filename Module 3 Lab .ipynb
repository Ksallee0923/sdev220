{
 "cells": [
  {
   "cell_type": "code",
   "execution_count": 1,
   "id": "565813fe-d9d4-45aa-914f-332e5a870a3d",
   "metadata": {},
   "outputs": [
    {
     "name": "stdout",
     "output_type": "stream",
     "text": [
      "🚗 Vehicle Information System 🚗\n",
      "\n",
      "Enter Car Details:\n"
     ]
    },
    {
     "name": "stdin",
     "output_type": "stream",
     "text": [
      "Year:  2000\n",
      "Make:  chevy\n",
      "Model:  cruze\n",
      "Number of doors (2 or 4):  4\n",
      "Roof type (solid or sun roof):  solid\n"
     ]
    },
    {
     "name": "stdout",
     "output_type": "stream",
     "text": [
      "\n",
      "Vehicle Information:\n",
      "  Vehicle type: car\n",
      "  Year: 2000\n",
      "  Make: chevy\n",
      "  Model: cruze\n",
      "  Number of doors: 4\n",
      "  Type of roof: solid\n"
     ]
    }
   ],
   "source": [
    "class Vehicle:\n",
    "    \"\"\"Superclass representing a generic vehicle.\"\"\"\n",
    "    def __init__(self, vehicle_type=\"car\"):\n",
    "        \"\"\"Initialize vehicle type (default: 'car').\"\"\"\n",
    "        self.vehicle_type = vehicle_type\n",
    "\n",
    "class Automobile(Vehicle):\n",
    "    \"\"\"Subclass representing an automobile (inherits from Vehicle).\"\"\"\n",
    "    def __init__(self, year, make, model, doors, roof):\n",
    "        \"\"\"Initialize automobile attributes.\"\"\"\n",
    "        super().__init__(\"car\")  # Vehicle type is always \"car\" for this assignment\n",
    "        self.year = year\n",
    "        self.make = make\n",
    "        self.model = model\n",
    "        self.doors = doors\n",
    "        self.roof = roof\n",
    "\n",
    "    def display_info(self):\n",
    "        \"\"\"Print vehicle details in a structured format.\"\"\"\n",
    "        print(\"\\nVehicle Information:\")\n",
    "        print(f\"  Vehicle type: {self.vehicle_type}\")\n",
    "        print(f\"  Year: {self.year}\")\n",
    "        print(f\"  Make: {self.make}\")\n",
    "        print(f\"  Model: {self.model}\")\n",
    "        print(f\"  Number of doors: {self.doors}\")\n",
    "        print(f\"  Type of roof: {self.roof}\")\n",
    "\n",
    "def get_user_input():\n",
    "    \"\"\"Prompt user for automobile details and validate input.\"\"\"\n",
    "    print(\"\\nEnter Car Details:\")\n",
    "    year = input(\"Year: \")\n",
    "    make = input(\"Make: \")\n",
    "    model = input(\"Model: \")\n",
    "\n",
    "    # Validate doors (must be 2 or 4)\n",
    "    while True:\n",
    "        doors = input(\"Number of doors (2 or 4): \")\n",
    "        if doors in [\"2\", \"4\"]:\n",
    "            break\n",
    "        print(\"❌ Invalid! Must be 2 or 4.\")\n",
    "\n",
    "    # Validate roof type (must be 'solid' or 'sun roof')\n",
    "    while True:\n",
    "        roof = input(\"Roof type (solid or sun roof): \").lower()\n",
    "        if roof in [\"solid\", \"sun roof\"]:\n",
    "            break\n",
    "        print(\"❌ Invalid! Must be 'solid' or 'sun roof'.\")\n",
    "\n",
    "    return year, make, model, doors, roof\n",
    "\n",
    "def main():\n",
    "    \"\"\"Run the program: Get input, create object, and display info.\"\"\"\n",
    "    print(\"🚗 Vehicle Information System 🚗\")\n",
    "    year, make, model, doors, roof = get_user_input()\n",
    "    car = Automobile(year, make, model, doors, roof)\n",
    "    car.display_info()\n",
    "\n",
    "if __name__ == \"__main__\":\n",
    "    main()"
   ]
  },
  {
   "cell_type": "code",
   "execution_count": null,
   "id": "6097927f-2579-40be-8de9-25f56c4e5d19",
   "metadata": {},
   "outputs": [],
   "source": []
  }
 ],
 "metadata": {
  "kernelspec": {
   "display_name": "Python 3 (ipykernel)",
   "language": "python",
   "name": "python3"
  },
  "language_info": {
   "codemirror_mode": {
    "name": "ipython",
    "version": 3
   },
   "file_extension": ".py",
   "mimetype": "text/x-python",
   "name": "python",
   "nbconvert_exporter": "python",
   "pygments_lexer": "ipython3",
   "version": "3.12.7"
  }
 },
 "nbformat": 4,
 "nbformat_minor": 5
}
